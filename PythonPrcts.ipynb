{
  "nbformat": 4,
  "nbformat_minor": 0,
  "metadata": {
    "colab": {
      "provenance": []
    },
    "kernelspec": {
      "name": "python3",
      "display_name": "Python 3"
    },
    "language_info": {
      "name": "python"
    }
  },
  "cells": [
    {
      "cell_type": "code",
      "execution_count": null,
      "metadata": {
        "colab": {
          "base_uri": "https://localhost:8080/"
        },
        "id": "GejF2VzRTa5H",
        "outputId": "255682e0-3417-43a7-9de6-b2bd9ff56aac"
      },
      "outputs": [
        {
          "output_type": "stream",
          "name": "stdout",
          "text": [
            "Hello World\n"
          ]
        }
      ],
      "source": [
        "print(\"Hello World\")"
      ]
    },
    {
      "cell_type": "code",
      "source": [
        "\n",
        "number = 1\n",
        "number2 = 10\n",
        "print(\"Number 1 =\", number, \", Number 2 = \",\n",
        "      number2, \", Addition = \", number+number2)\n"
      ],
      "metadata": {
        "colab": {
          "base_uri": "https://localhost:8080/"
        },
        "id": "mx8fydisT0M4",
        "outputId": "8ee7db60-242e-4cd1-b26e-b1d228a13e19"
      },
      "execution_count": null,
      "outputs": [
        {
          "output_type": "stream",
          "name": "stdout",
          "text": [
            "Number 1 = 1 , Number 2 =  10 , Addition =  11\n"
          ]
        }
      ]
    },
    {
      "cell_type": "code",
      "source": [
        "a, b, c = 5, 3.2, 'Hello'\n",
        "\n",
        "print(a)  # prints 5\n",
        "print(b)  # prints 3.2\n",
        "print(c)  # prints Hello "
      ],
      "metadata": {
        "colab": {
          "base_uri": "https://localhost:8080/"
        },
        "id": "F7hNr7nYb4Hq",
        "outputId": "59853562-97da-4984-88fc-5e4e09da8463"
      },
      "execution_count": null,
      "outputs": [
        {
          "output_type": "stream",
          "name": "stdout",
          "text": [
            "5\n",
            "3.2\n",
            "Hello\n"
          ]
        }
      ]
    },
    {
      "cell_type": "code",
      "source": [
        "patient_name = \"John Smith\"\n",
        "age = 20\n",
        "is_patient = True\n",
        "\n",
        "print(\"Patient Name is\", patient_name , \", His age is \",age, \"and, He is serious\", is_patient)"
      ],
      "metadata": {
        "colab": {
          "base_uri": "https://localhost:8080/"
        },
        "id": "SsuaCxUIRMvB",
        "outputId": "1fcc6886-ecb2-490d-aaed-fe442f8f3a2f"
      },
      "execution_count": null,
      "outputs": [
        {
          "output_type": "stream",
          "name": "stdout",
          "text": [
            "Patient Name is John Smith , His age is  20 and, He is serious True\n"
          ]
        }
      ]
    },
    {
      "cell_type": "markdown",
      "source": [
        "Input"
      ],
      "metadata": {
        "id": "r3CMTWNSXpI8"
      }
    },
    {
      "cell_type": "code",
      "source": [
        "patient_name = input(\"Patient Name ? \")\n",
        "age = input(\"Patient AGE ? \")\n",
        "is_patient = input(\"Recovered ? \")\n",
        "\n",
        "print(\"Patient Name is\", patient_name, \", His age is \",\n",
        "      age, \"and, He is serious\", is_patient)\n"
      ],
      "metadata": {
        "colab": {
          "base_uri": "https://localhost:8080/"
        },
        "id": "486l655wVzPx",
        "outputId": "70a10a1d-6d01-4b5e-8e63-6201d0142e30"
      },
      "execution_count": null,
      "outputs": [
        {
          "output_type": "stream",
          "name": "stdout",
          "text": [
            "Patient Name ? Josh\n",
            "Patient AGE ? 23\n",
            "Recovered ? False\n",
            "Patient Name is Josh , His age is  23 and, He is serious False\n"
          ]
        }
      ]
    },
    {
      "cell_type": "markdown",
      "source": [
        "Type Conversion\n",
        "\n",
        "int()\n",
        "float()\n",
        "str()\n",
        "bool() "
      ],
      "metadata": {
        "id": "Z044iloEZoVb"
      }
    },
    {
      "cell_type": "code",
      "source": [
        "\n",
        "first_num = input(\"Num 1 = \" )\n",
        "second_num = input(\"Num 2 = \" ) \n",
        "\n",
        "'''\n",
        "ALSO\n",
        "\n",
        "first_num = float(input(\"Num 1 = \" ))\n",
        "second_num = float(input(\"Num 2 = \" )) \n",
        "sum = first_num + second_num\n",
        "\n",
        "'''\n",
        "\n",
        "sum = float(first_num) + float(second_num)\n",
        "print(\"Sum = \" + str(sum))\n"
      ],
      "metadata": {
        "colab": {
          "base_uri": "https://localhost:8080/"
        },
        "id": "VTTwzfWTXzq2",
        "outputId": "2b9d4603-15ea-4980-8139-6c224c5c319f"
      },
      "execution_count": null,
      "outputs": [
        {
          "output_type": "stream",
          "name": "stdout",
          "text": [
            "Num 1 = 20\n",
            "Num 2 = 21\n",
            "Sum = 41.0\n"
          ]
        }
      ]
    },
    {
      "cell_type": "markdown",
      "source": [
        "Strings ( & Capabilties or methods)\n",
        "\n",
        "replace()\n",
        "upper()\n",
        "capitalized()\n",
        "casefold()\n",
        "center()\n",
        "count()\n",
        "encode()\n",
        "endswith()\n",
        "expandtabs()\n"
      ],
      "metadata": {
        "id": "_iLos0nOEfWZ"
      }
    },
    {
      "cell_type": "code",
      "source": [
        "string = str(input(\"Enter a String : \"))\n",
        "print(\"Replace(par1 , par2) : \", string.replace(\"ullah\" , \"Kahttana\"))\n",
        "print(\"Upper() : \", string.upper())\n",
        "print(\"Lower() : \", string.lower())\n",
        "print(\"Find() : \", string.find(\"a\"))\n",
        "print(\"In : \", \"Ibad\" in string )"
      ],
      "metadata": {
        "colab": {
          "base_uri": "https://localhost:8080/"
        },
        "id": "jojfVSr4GNws",
        "outputId": "2d3c3c84-a207-4255-8ca7-efc571c21f86"
      },
      "execution_count": null,
      "outputs": [
        {
          "output_type": "stream",
          "name": "stdout",
          "text": [
            "Enter a String : Ibadullah Kahttana\n",
            "Replace(par1 , par2) :  IbadKahttana Kahttana\n",
            "Upper() :  IBADULLAH KAHTTANA\n",
            "Lower() :  ibadullah kahttana\n",
            "Find() :  2\n",
            "In :  True\n"
          ]
        }
      ]
    },
    {
      "cell_type": "markdown",
      "source": [
        "Python Namespace and Scope\n",
        "Global() \n",
        "Outer()\n",
        "Inner()"
      ],
      "metadata": {
        "id": "5zvJI0EvJbFZ"
      }
    },
    {
      "cell_type": "code",
      "source": [
        "# global_var is in the global namespace\n",
        "global_var = 10\n",
        "def outer_function():\n",
        "    #  outer_var is in the local namespace \n",
        "    outer_var = 20\n",
        "    def inner_function():\n",
        "        #  inner_var is in the nested local namespace \n",
        "        inner_var = 30\n",
        "        print(inner_var)\n",
        "    print(outer_var)\n",
        "    inner_function()\n",
        "\n",
        "# print the value of the global variable\n",
        "print(global_var)\n",
        "\n",
        "# call the outer function and print local and nested local variables\n",
        "outer_function()"
      ],
      "metadata": {
        "colab": {
          "base_uri": "https://localhost:8080/"
        },
        "id": "gZ0iBsYoJXS9",
        "outputId": "d9e63c5e-f4b2-4ea4-f780-6cc178acb9d8"
      },
      "execution_count": null,
      "outputs": [
        {
          "output_type": "stream",
          "name": "stdout",
          "text": [
            "10\n",
            "20\n",
            "30\n"
          ]
        }
      ]
    },
    {
      "cell_type": "code",
      "source": [
        "dict_weather = { 'Monday' : 'cloudy' ,'Tuesday' : 'sunny' ,'Wednesday' : 'PartialyCloudy' ,'Thursday' : 'PartialyCloudy' ,'Friday' : 'WetWeather' ,'Saturday' : 'cloudy' , 'Sunday' : 'Sunny' }\n",
        "\n",
        "PredictWeather = dict_weather['Monday']\n",
        "print(PredictWeather)\n",
        "\n",
        "#dictionary sortes\n",
        "customers = ['Kaley Fernandez', 'Darius Rowland', 'Isaac Borthwick',  'Alexandria Kidd']\n",
        "sorted_customers = sorted(customers)\n",
        "print(sorted_customers)\n",
        "\n",
        "print(\"Sorted Dict\" , sorted(dict_weather))"
      ],
      "metadata": {
        "colab": {
          "base_uri": "https://localhost:8080/"
        },
        "id": "4Vf1ELKTKShF",
        "outputId": "2cbcf893-187c-4511-97f0-e83d1fafc258"
      },
      "execution_count": null,
      "outputs": [
        {
          "output_type": "stream",
          "name": "stdout",
          "text": [
            "cloudy\n",
            "['Alexandria Kidd', 'Darius Rowland', 'Isaac Borthwick', 'Kaley Fernandez']\n",
            "Sorted Dict ['Friday', 'Monday', 'Saturday', 'Sunday', 'Thursday', 'Tuesday', 'Wednesday']\n"
          ]
        }
      ]
    },
    {
      "cell_type": "markdown",
      "source": [
        "BMI Example <br>\n",
        "round()\n",
        "upper()"
      ],
      "metadata": {
        "id": "dITFof-qm7Jt"
      }
    },
    {
      "cell_type": "code",
      "source": [
        "weight = float (input(\"Weight: \"))\n",
        "unit = input(\"(K)g or (Lbs):\")\n",
        "if unit.upper() == \"K\":\n",
        "  converted = weight/0.45\n",
        "  print(\"Weight in kgs:\", round(converted,1))\n",
        "elif unit.upper() == \"L\":\n",
        "  converted = weight * 0.45\n",
        "  print(\"Weight in lbs:\", round(converted,1))\n",
        "\n",
        "\n"
      ],
      "metadata": {
        "colab": {
          "base_uri": "https://localhost:8080/"
        },
        "id": "5iS4c6uem6fn",
        "outputId": "dc16e404-b29b-472e-c111-70f3f0f68968"
      },
      "execution_count": null,
      "outputs": [
        {
          "output_type": "stream",
          "name": "stdout",
          "text": [
            "Weight: 90.5\n",
            "(K)g or (Lbs):k\n",
            "Weight in kgs: 201.1\n"
          ]
        }
      ]
    },
    {
      "cell_type": "markdown",
      "source": [
        "While Loop"
      ],
      "metadata": {
        "id": "bUs268-IuxyJ"
      }
    },
    {
      "cell_type": "code",
      "source": [
        "'''we can multiply a number by a string  ( 1 * 'a') correct\n",
        "   but we cannot concatinate a number with a string (1 + 'a') wrong '''\n",
        "i = 1\n",
        "while i<5:\n",
        "  print(i * 2 * '*')   \n",
        "  i = i+1"
      ],
      "metadata": {
        "id": "v-DYoowoc3Q4",
        "colab": {
          "base_uri": "https://localhost:8080/"
        },
        "outputId": "33d0bd3c-41bb-4caa-9428-28f139d8b3aa"
      },
      "execution_count": null,
      "outputs": [
        {
          "output_type": "stream",
          "name": "stdout",
          "text": [
            "**\n",
            "****\n",
            "******\n",
            "********\n"
          ]
        }
      ]
    },
    {
      "cell_type": "markdown",
      "source": [
        "**Multiplicatin Table**\n",
        "Uisng for loop"
      ],
      "metadata": {
        "id": "cEyMrMT5g70-"
      }
    },
    {
      "cell_type": "code",
      "source": [
        "table_of = int(input(\"Enter Table of = \"))\n",
        "table_finalValue = int(input(\"Enter Table upto = \"))\n",
        "\n",
        "for x in range(1,table_finalValue):\n",
        "  mulitpliedValue = table_of * x\n",
        "  #print(table_of , \"*\" , x , \"=\" , mulitpliedValue)\n",
        "  print(str(table_of) + \"*\" + str(x) + \"=\" + str(mulitpliedValue))\n",
        "\n",
        "\n",
        "\n",
        "for x in range(table_finalValue , 0 , -1):\n",
        "  mulitpliedValue = table_of * x\n",
        "  #print(table_of , \"*\" , x , \"=\" , mulitpliedValue)\n",
        "  print(str(table_of) + \"*\" + str(x) + \"=\" + str(mulitpliedValue))\n",
        "  "
      ],
      "metadata": {
        "id": "c_Aaltffg66J"
      },
      "execution_count": null,
      "outputs": []
    },
    {
      "cell_type": "markdown",
      "source": [
        "Write a program to greet all the person names stored in a list l1 and which starts with S\n",
        "\n",
        "l1 = [\"Harry\" , \"Sahan\" , \"Sachin\" , \"Rahul\"]"
      ],
      "metadata": {
        "id": "zxW81J4RvJ1s"
      }
    },
    {
      "cell_type": "code",
      "source": [
        "l1 = [\"Harry\" , \"Sahan\" , \"Sachin\" , \"Rahul\"]\n",
        "for x in range(0, len(l1)):\n",
        "  if(l1[x].startswith('S')):\n",
        "    print(\"Hello \" + str(l1[x]))\n",
        "  else:\n",
        "    print(\"Bye \" + str(l1[x]))\n",
        "\n",
        "print(\"\\n\")\n",
        "\n",
        "#method 2 simple\n",
        "l1 = [\"Harry\" , \"Sahan\" , \"Sachin\" , \"Rahul\"]\n",
        "for x in l1:\n",
        "  if x.startswith('S'):\n",
        "    print(\"Hello \" + x)\n",
        "  else:\n",
        "    print(\"Bye \" + x)\n",
        "  "
      ],
      "metadata": {
        "colab": {
          "base_uri": "https://localhost:8080/"
        },
        "id": "lrvmLrXpr4MT",
        "outputId": "c36a5cdf-eb72-475d-f821-86948f5f50b8"
      },
      "execution_count": null,
      "outputs": [
        {
          "output_type": "stream",
          "name": "stdout",
          "text": [
            "Bye Harry\n",
            "Hello Sahan\n",
            "Hello Sachin\n",
            "Bye Rahul\n",
            "\n",
            "\n",
            "Bye Harry\n",
            "Hello Sahan\n",
            "Hello Sachin\n",
            "Bye Rahul\n"
          ]
        }
      ]
    },
    {
      "cell_type": "markdown",
      "source": [
        "Multiplicatio table using while loop\n",
        "<br>\n",
        "f string used"
      ],
      "metadata": {
        "id": "0hM9AtjjvgVp"
      }
    },
    {
      "cell_type": "code",
      "source": [
        "table_of = int(input(\"Enter Table of = \"))\n",
        "table_finalValue = int(input(\"Enter Table upto = \"))\n",
        "x = 1\n",
        "\n",
        "while x < table_finalValue:\n",
        "  mulitpliedValue = table_of * x\n",
        "  #print(str(table_of) + \"*\" + str() + \"=\" + str(mulitpliedValue))\n",
        "  # Using f String\n",
        "  print(f\"{table_of}x{x}={mulitpliedValue}\")\n",
        "  x=x+1"
      ],
      "metadata": {
        "colab": {
          "base_uri": "https://localhost:8080/"
        },
        "id": "7fAwZeMGvlEW",
        "outputId": "09dc81f9-74ef-4a2d-8492-68501bb015e6"
      },
      "execution_count": null,
      "outputs": [
        {
          "output_type": "stream",
          "name": "stdout",
          "text": [
            "Enter Table of = 5\n",
            "Enter Table upto = 10\n",
            "5x1=5\n",
            "5x2=10\n",
            "5x3=15\n",
            "5x4=20\n",
            "5x5=25\n",
            "5x6=30\n",
            "5x7=35\n",
            "5x8=40\n",
            "5x9=45\n"
          ]
        }
      ]
    },
    {
      "cell_type": "markdown",
      "source": [
        "Check weather the number is prime or not"
      ],
      "metadata": {
        "id": "NKh3TEPMycA8"
      }
    },
    {
      "cell_type": "code",
      "source": [
        "num = int(input(\"Enter a number = \"))\n",
        "prime = True\n",
        "\n",
        "if(num%2 == 0 and num!=2):\n",
        "  prime = False\n",
        "  print(f\"{num} is not Prime\")\n",
        "else:\n",
        "    print(f\"{num} is Prime\")"
      ],
      "metadata": {
        "colab": {
          "base_uri": "https://localhost:8080/"
        },
        "id": "jMIeGFSAygQu",
        "outputId": "a3e42ee4-4935-4f41-ac59-1ef28b68d925"
      },
      "execution_count": null,
      "outputs": [
        {
          "output_type": "stream",
          "name": "stdout",
          "text": [
            "Enter a number = 4\n",
            "4 is not Prime\n"
          ]
        }
      ]
    },
    {
      "cell_type": "markdown",
      "source": [
        "Program to find sum of first n natural numbers"
      ],
      "metadata": {
        "id": "9DOw2enGzt7Q"
      }
    },
    {
      "cell_type": "code",
      "source": [
        "num = int(input(\"Enter n number = \"))\n",
        "x = 0\n",
        "sum = 0\n",
        "while x <= num:\n",
        "  sum = sum + x\n",
        "  x = x+1\n",
        "\n",
        "print(f\"Total sum : {sum}\")"
      ],
      "metadata": {
        "colab": {
          "base_uri": "https://localhost:8080/"
        },
        "id": "XPi8zzHOz1JR",
        "outputId": "cf1a6b9e-6659-402a-b587-3347e34fddac"
      },
      "execution_count": null,
      "outputs": [
        {
          "output_type": "stream",
          "name": "stdout",
          "text": [
            "Enter n number = 6\n",
            "Total sum : 21\n"
          ]
        }
      ]
    },
    {
      "cell_type": "markdown",
      "source": [
        "Favtorial of a number"
      ],
      "metadata": {
        "id": "8LLuuri222gt"
      }
    },
    {
      "cell_type": "code",
      "source": [
        "num = int(input(\"Enter a number = \"))\n",
        "factorialValue = 1\n",
        "factList = []\n",
        "\n",
        "for i in range(1,num+1):\n",
        "  factorialValue = factorialValue * num\n",
        "  print(f\"{num} * \")\n",
        "  factList.append(num)\n",
        "  num = num-1\n",
        "print(f\"Sum of factorial is : {factorialValue}\")\n",
        "print(f\"List : {factList}\")\n"
      ],
      "metadata": {
        "colab": {
          "base_uri": "https://localhost:8080/"
        },
        "id": "1KyiMlGQ3BmM",
        "outputId": "c529d403-85ce-4dac-b8d4-eaade04a829d"
      },
      "execution_count": null,
      "outputs": [
        {
          "output_type": "stream",
          "name": "stdout",
          "text": [
            "Enter a number = 6\n",
            "6 * \n",
            "5 * \n",
            "4 * \n",
            "3 * \n",
            "2 * \n",
            "1 * \n",
            "Sum of factorial is : 720\n",
            "List : [6, 5, 4, 3, 2, 1]\n"
          ]
        }
      ]
    },
    {
      "cell_type": "code",
      "source": [
        "num = int(input(\"Enter no of number = \"))\n",
        "\n",
        "for x in range(0,num):\n",
        "  print(\"*\" * (x + 1) )\n",
        "\n",
        "  \n",
        "for x in range(num):\n",
        "  print(\" \" * (num-x-1) , end=\"-\")\n",
        "  print(\"*\" * (2*x+1), end=\"?\") \n",
        "  print(\" \" * (num-x-1))"
      ],
      "metadata": {
        "colab": {
          "base_uri": "https://localhost:8080/"
        },
        "id": "HJGXwJEuS-dO",
        "outputId": "3b571834-92b1-44dd-ba44-c72d229d73d8"
      },
      "execution_count": null,
      "outputs": [
        {
          "output_type": "stream",
          "name": "stdout",
          "text": [
            "Enter no of number = 5\n",
            "*\n",
            "**\n",
            "***\n",
            "****\n",
            "*****\n",
            "    -*?    \n",
            "   -***?   \n",
            "  -*****?  \n",
            " -*******? \n",
            "-*********?\n"
          ]
        }
      ]
    },
    {
      "cell_type": "markdown",
      "source": [
        "Functions  def functionName():"
      ],
      "metadata": {
        "id": "KfmWsF5DWqGn"
      }
    },
    {
      "cell_type": "code",
      "source": [
        "def add(x,y):\n",
        "  z = x+y\n",
        "  return z\n",
        "  \n",
        "\n",
        "Num = add(5,4)\n",
        "Num1 = add(5,45)\n",
        "Num2 = add(5,43)\n",
        "print(\"Addition is = \",Num1)"
      ],
      "metadata": {
        "id": "OXBmQVqLUIEv",
        "colab": {
          "base_uri": "https://localhost:8080/"
        },
        "outputId": "81de9606-e415-4048-972a-9fa993d6dc2c"
      },
      "execution_count": null,
      "outputs": [
        {
          "output_type": "stream",
          "name": "stdout",
          "text": [
            "Addition is =  50\n"
          ]
        }
      ]
    },
    {
      "cell_type": "markdown",
      "source": [
        "Python Function With Arbitrary Arguments\n",
        "Sometimes, we do not know in advance the number of arguments that will be passed into a function. To handle this kind of situation, we can use arbitrary arguments in Python.\n",
        "\n",
        "Arbitrary arguments allow us to pass a varying number of values during a function call.\n",
        "\n",
        "We use an asterisk (*) before the parameter name to denote this kind of argument. For example,"
      ],
      "metadata": {
        "id": "csJJkkcM6QjQ"
      }
    },
    {
      "cell_type": "code",
      "source": [
        "# program to find sum of multiple numbers \n",
        "def find_sum(*numbers):\n",
        "    result = 0\n",
        "    \n",
        "    for num in numbers:\n",
        "        result = result + num\n",
        "    \n",
        "    print(\"Sum = \", result)\n",
        "\n",
        "# function call with 3 arguments\n",
        "find_sum(1, 2, 3)\n",
        "\n",
        "# function call with 2 arguments\n",
        "find_sum(4, 9)"
      ],
      "metadata": {
        "colab": {
          "base_uri": "https://localhost:8080/"
        },
        "id": "KI_oiCKu6R_Q",
        "outputId": "caa4a3c5-0c1e-415d-e0c7-a576eed33a7c"
      },
      "execution_count": null,
      "outputs": [
        {
          "output_type": "stream",
          "name": "stdout",
          "text": [
            "Sum =  6\n",
            "Sum =  13\n"
          ]
        }
      ]
    },
    {
      "cell_type": "markdown",
      "source": [
        "Recursive Function<br>\n",
        "In this tutorial, you will learn to create a recursive function (a function that calls itself).\n",
        "Recursion is the process of defining something in terms of itself. A physical world example would be to place two parallel mirrors facing each other. Any object in between them would be reflected recursively."
      ],
      "metadata": {
        "id": "vKuOt9sPCXos"
      }
    },
    {
      "cell_type": "code",
      "source": [
        "def factorial(x):\n",
        "    if x == 1:\n",
        "        return 1\n",
        "    else:\n",
        "        return (x * factorial(x-1))\n",
        "\n",
        "num = 3\n",
        "print(\"The factorial of\", num, \"is\", factorial(num))"
      ],
      "metadata": {
        "colab": {
          "base_uri": "https://localhost:8080/"
        },
        "id": "QwV33S7YCcc4",
        "outputId": "832c8b71-7c03-47a5-c184-ec9b464982eb"
      },
      "execution_count": null,
      "outputs": [
        {
          "output_type": "stream",
          "name": "stdout",
          "text": [
            "The factorial of 3 is 6\n"
          ]
        }
      ]
    },
    {
      "cell_type": "markdown",
      "source": [
        "Recusrive function to add n numbers of natural numbers\n"
      ],
      "metadata": {
        "id": "BDYlSzRMcAIi"
      }
    },
    {
      "cell_type": "code",
      "source": [
        "def add(x):\n",
        "  if x==1:\n",
        "    return 1\n",
        "  else:\n",
        "    return (x + add(x-1))\n",
        "\n",
        "num=10\n",
        "\n",
        "print(\"Sum of first nnatural number is = \", add(num))\n",
        "\n"
      ],
      "metadata": {
        "colab": {
          "base_uri": "https://localhost:8080/"
        },
        "id": "DnHi2m7bbgpR",
        "outputId": "d44c12ad-3e56-4b66-db1c-ffbc517bcb5e"
      },
      "execution_count": null,
      "outputs": [
        {
          "output_type": "stream",
          "name": "stdout",
          "text": [
            "Sum of first nnatural number is =  55\n"
          ]
        }
      ]
    },
    {
      "cell_type": "markdown",
      "source": [
        "Snake Water Gun Game"
      ],
      "metadata": {
        "id": "r82HZIVLnXY2"
      }
    },
    {
      "cell_type": "code",
      "source": [
        "import random\n",
        "\n",
        "# Snake Water Gun or Rock Paper Scissors\n",
        "def gameWin(comp, you):\n",
        "    # If two values are equal, declare a tie!\n",
        "    if comp == you:\n",
        "        return None\n",
        "\n",
        "    # Check for all possibilities when computer chose s\n",
        "    elif comp == 's':\n",
        "        if you=='w':\n",
        "            return False\n",
        "        elif you=='g':\n",
        "            return True\n",
        "    \n",
        "    # Check for all possibilities when computer chose w\n",
        "    elif comp == 'w':\n",
        "        if you=='g':\n",
        "            return False\n",
        "        elif you=='s':\n",
        "            return True\n",
        "    \n",
        "    # Check for all possibilities when computer chose g\n",
        "    elif comp == 'g':\n",
        "        if you=='s':\n",
        "            return False\n",
        "        elif you=='w':\n",
        "            return True\n",
        "\n",
        "print(\"Comp Turn: Snake(s) Water(w) or Gun(g)?\")\n",
        "randNo = random.randint(1, 3) \n",
        "if randNo == 1:\n",
        "    comp = 's'\n",
        "elif randNo == 2:\n",
        "    comp = 'w'\n",
        "elif randNo == 3:\n",
        "    comp = 'g'\n",
        "\n",
        "you = input(\"Your Turn: Snake(s) Water(w) or Gun(g)?\")\n",
        "a = gameWin(comp, you)\n",
        "\n",
        "print(f\"Computer chose {comp}\")\n",
        "print(f\"You chose {you}\")\n",
        "\n",
        "if a == None:\n",
        "    print(\"The game is a tie!\")\n",
        "elif a:\n",
        "    print(\"You Win!\")\n",
        "else:\n",
        "    print(\"You Lose!\")"
      ],
      "metadata": {
        "colab": {
          "base_uri": "https://localhost:8080/"
        },
        "id": "zQrQHkGYnb6m",
        "outputId": "ba7ee93d-ac75-4acd-c37d-fb14a819c1fe"
      },
      "execution_count": null,
      "outputs": [
        {
          "output_type": "stream",
          "name": "stdout",
          "text": [
            "Comp Turn: Snake(s) Water(w) or Gun(g)?\n",
            "Your Turn: Snake(s) Water(w) or Gun(g)?s\n",
            "Computer chose s\n",
            "You chose s\n",
            "The game is a tie!\n"
          ]
        }
      ]
    },
    {
      "cell_type": "markdown",
      "source": [
        "**File I/O**"
      ],
      "metadata": {
        "id": "T9plPKqUPhQp"
      }
    },
    {
      "cell_type": "code",
      "source": [
        "# open a file\n",
        "# file1 = open(\"test.txt\", \"r\")\n",
        "\n",
        "# read()\n",
        "# read_content = file1.read(5) # read 5 characters from the file\n",
        "\n",
        "# readline()\n",
        "# read_content = file1.readline()  # read one line from the file\n",
        "\n",
        "# print(read_content)\n",
        "\n",
        "# write()\n",
        "f = open(\"test.txt\", \"a\")\n",
        "f.write(\"Please write to the file67868678\")\n",
        "f.close()\n",
        "\n",
        "# with Statement\n",
        "with open('another.txt', 'r') as f:\n",
        "    file1 = f.read()  # no need to close() the file with statment\n",
        "print(file1)\n",
        "\n",
        "# to search fr a word in a logfile.txt we can use this code\n",
        "\n",
        "if \"python\" in file1:\n",
        "  print(\"python is present in file\")\n",
        "else:\n",
        "  print(\"python is not present in the file\")\n"
      ],
      "metadata": {
        "id": "8OCWJr06PlXq"
      },
      "execution_count": null,
      "outputs": []
    },
    {
      "cell_type": "markdown",
      "source": [
        "Table Generation Write()"
      ],
      "metadata": {
        "id": "nfJJUdFSYS9S"
      }
    },
    {
      "cell_type": "code",
      "source": [
        "for i in range(2, 21):\n",
        "    with open(f\"Table_of_{i}\", 'w') as f:\n",
        "        for j in range(1, 11):\n",
        "            f.write(f\"{i}x{j}={i*j}\\n\")\n",
        "\n",
        "\n",
        "# The above code will create 20 files of tables with the mulyiplication tables. "
      ],
      "metadata": {
        "id": "Pn7-cvrCYYLn"
      },
      "execution_count": null,
      "outputs": []
    },
    {
      "cell_type": "markdown",
      "source": [
        "Replace a words (donkey) occured multiple times with ####"
      ],
      "metadata": {
        "id": "1CtsNdWOZ83H"
      }
    },
    {
      "cell_type": "code",
      "source": [
        "with open(\"donkey.txt\" , 'r') as f:\n",
        "  content = f.read()\n",
        "\n",
        "constent = content.replace(\"donkey\" , \"####\")\n",
        "\n",
        "with open(\"donkey.txt\" , 'w') as f:\n",
        "  f.write(content)\n",
        "\n",
        "\n",
        "#This will override donkey word with #### in all the file\n",
        "\n",
        "# To wipeout the content of a file simple wirte\n",
        "\n",
        "f.write(\"\") # This will wipeout all the content"
      ],
      "metadata": {
        "id": "cTwAWMQTaGrk"
      },
      "execution_count": null,
      "outputs": []
    },
    {
      "cell_type": "markdown",
      "source": [
        "delete file using  os.remove()"
      ],
      "metadata": {
        "id": "DBxOIXYCfdjW"
      }
    },
    {
      "cell_type": "code",
      "source": [
        "import os\n",
        "oldname = 'sample.txt'\n",
        "os.remove(oldname)"
      ],
      "metadata": {
        "id": "KAkTxFXwfmKY"
      },
      "execution_count": null,
      "outputs": []
    }
  ]
}